{
  "cells": [
    {
      "cell_type": "markdown",
      "metadata": {
        "id": "CeEQkx29HBT-"
      },
      "source": [
        "**Importing Libraries** \n",
        "\n"
      ]
    },
    {
      "cell_type": "code",
      "execution_count": null,
      "metadata": {
        "id": "xMCu2EuADDC3"
      },
      "outputs": [],
      "source": [
        "import re\n",
        "import math\n",
        "import morfessor\n",
        "from collections import Counter"
      ]
    },
    {
      "cell_type": "markdown",
      "source": [
        "**Read .txt_files**"
      ],
      "metadata": {
        "id": "tM12AHYVFITX"
      }
    },
    {
      "cell_type": "code",
      "execution_count": null,
      "metadata": {
        "id": "bJ4fPyMCJ5V3"
      },
      "outputs": [],
      "source": [
        "\n",
        "with open(\"/content/MEREJA-FILE (7).txt\", 'r') as r, open('file.txt', 'w') as o:\n",
        "    for line in r:\n",
        "        #strip() function for removing white lines\n",
        "        if line.strip():\n",
        "            o.write(line)\n",
        "f = open(\"file.txt\", \"r\")\n",
        "contents=f.read()\n"
      ]
    },
    {
      "cell_type": "markdown",
      "source": [
        "**Dat-Pre-Procesing**"
      ],
      "metadata": {
        "id": "bDGwH0fGE40n"
      }
    },
    {
      "cell_type": "code",
      "source": [
        "ASCII=re.sub('[A-Za-z]','',contents) #removing english words from the file\n",
        "En=re.sub('[\\'\\u1369-\\u137C\\']+','',ASCII)\n",
        "#text = re.sub('[\\@\\#\\$\\^\\«\\»\\&\\*\\(\\)\\…\\[\\]\\;\\“\\”\\›\\’\\‘\\\"\\'\\:\\,\\.\\‹\\\\<\\>\\?\\\\\\|\\`\\´\\~\\-\\=\\+\\፡\\።\\፤\\;\\፦\\፥\\፧\\፨\\፠\\፣\\–\\→]', \" \",En)\n",
        "#Strip_Text = text.strip(\"–\")\n",
        "results = re.sub(r'https\\S+', '', En)#removing links from the file"
      ],
      "metadata": {
        "id": "UTnZb-rgEg5D"
      },
      "execution_count": null,
      "outputs": []
    },
    {
      "cell_type": "markdown",
      "source": [
        "**Removing_Duplicated_words**"
      ],
      "metadata": {
        "id": "Q7FTSccCSFo4"
      }
    },
    {
      "cell_type": "code",
      "source": [
        "def remov_duplicates(input):\n",
        "    input = input.split(\" \")\n",
        "    UniqW = Counter(input)\n",
        "    s = \" \".join(UniqW.keys())\n",
        "    return s\n",
        "remove=remov_duplicates(results)\n",
        "#print(remove)"
      ],
      "metadata": {
        "id": "llBg0QGOMyQz"
      },
      "execution_count": null,
      "outputs": []
    },
    {
      "cell_type": "markdown",
      "source": [
        "**Normalze the character**"
      ],
      "metadata": {
        "id": "pAnrmfugFazx"
      }
    },
    {
      "cell_type": "code",
      "execution_count": null,
      "metadata": {
        "id": "9s_PtIFTixov"
      },
      "outputs": [],
      "source": [
        "def normalize(input_token):\n",
        "        rep1=re.sub('[ሃኅኃሐሓኻ]','ሀ',input_token)\n",
        "        rep2=re.sub('[ሑኁዅ]','ሁ',rep1)\n",
        "        rep3=re.sub('[ኂሒኺ]','ሂ',rep2)\n",
        "        rep4=re.sub('[ኌሔዄ]','ሄ',rep3)\n",
        "        rep5=re.sub('[ሕኅ]','ህ',rep4)\n",
        "        rep6=re.sub('[ኆሖኾ]','ሆ',rep5)\n",
        "        rep7=re.sub('[ሠ]','ሰ',rep6)\n",
        "        rep8=re.sub('[ሡ]','ሱ',rep7)\n",
        "        rep9=re.sub('[ሢ]','ሲ',rep8)\n",
        "        rep10=re.sub('[ሣ]','ሳ',rep9)\n",
        "        rep11=re.sub('[ሤ]','ሴ',rep10)\n",
        "        rep12=re.sub('[ሥ]','ስ',rep11)\n",
        "        rep13=re.sub('[ሦ]','ሶ',rep12)\n",
        "        rep14=re.sub('[ዓኣዐ]','አ',rep13)\n",
        "        rep15=re.sub('[ዑ]','ኡ',rep14)\n",
        "        rep16=re.sub('[ዒ]','ኢ',rep15)\n",
        "        rep17=re.sub('[ዔ]','ኤ',rep16)\n",
        "        rep18=re.sub('[ዕ]','እ',rep17)\n",
        "        rep19=re.sub('[ዖ]','ኦ',rep18)\n",
        "        rep20=re.sub('[ጸ]','ፀ',rep19)\n",
        "        rep21=re.sub('[ጹ]','ፁ',rep20)\n",
        "        rep22=re.sub('[ጺ]','ፂ',rep21)\n",
        "        rep23=re.sub('[ጻ]','ፃ',rep22)\n",
        "        rep24=re.sub('[ጼ]','ፄ',rep23)\n",
        "        rep25=re.sub('[ጽ]','ፅ',rep24)\n",
        "        rep26=re.sub('[ጾ]','ፆ',rep25)\n",
        "        rep27=re.sub('(ሉ[ዋአ])','ሏ',rep26)\n",
        "        rep28=re.sub('(ሙ[ዋአ])','ሟ',rep27)\n",
        "        rep29=re.sub('(ቱ[ዋአ])','ቷ',rep28)\n",
        "        rep30=re.sub('(ሩ[ዋአ])','ሯ',rep29)\n",
        "        rep31=re.sub('(ሱ[ዋአ])','ሷ',rep30)\n",
        "        rep32=re.sub('(ሹ[ዋአ])','ሿ',rep31)\n",
        "        rep33=re.sub('(ቁ[ዋአ])','ቋ',rep32)\n",
        "        rep34=re.sub('(ቡ[ዋአ])','ቧ',rep33)\n",
        "        rep35=re.sub('(ቹ[ዋአ])','ቿ',rep34)\n",
        "        rep36=re.sub('(ሁ[ዋአ])','ኋ',rep35)\n",
        "        rep37=re.sub('(ኑ[ዋአ])','ኗ',rep36)\n",
        "        rep38=re.sub('(ኙ[ዋአ])','ኟ',rep37)\n",
        "        rep39=re.sub('(ኩ[ዋአ])','ኳ',rep38)\n",
        "        rep40=re.sub('(ዙ[ዋአ])','ዟ',rep39)\n",
        "        rep41=re.sub('(ጉ[ዋአ])','ጓ',rep40)\n",
        "        rep42=re.sub('(ደ[ዋአ])','ዷ',rep41)\n",
        "        rep43=re.sub('(ጡ[ዋአ])','ጧ',rep42)\n",
        "        rep44=re.sub('(ጩ[ዋአ])','ጯ',rep43)\n",
        "        rep45=re.sub('(ጹ[ዋአ])','ጿ',rep44)\n",
        "        rep46=re.sub('(ፉ[ዋአ])','ፏ',rep45)\n",
        "        rep47=re.sub('[ቊ]','ቁ',rep46)\n",
        "        rep48=re.sub('[ኵ]','ኩ',rep47) \n",
        "        return rep48\n",
        "        \n",
        "str=normalize(remove)\n",
        "#print(str)"
      ]
    },
    {
      "cell_type": "code",
      "source": [
        "outfile = open(\"str\", \"w\")\n",
        "for word in str:\n",
        "    outfile.write(word+\"\\n\")\n",
        "outfile.close()"
      ],
      "metadata": {
        "id": "v8WwKMDgQcls"
      },
      "execution_count": null,
      "outputs": []
    },
    {
      "cell_type": "code",
      "source": [
        "def log_func(x):\n",
        "    return int(round(math.log(x + 1, 2)))\n",
        "\n",
        "infile = \"str\"\n",
        "io = morfessor.MorfessorIO()\n",
        "train_data = list(io.read_corpus_file(infile))\n",
        "model = morfessor.BaselineModel()\n",
        "model.load_data(train_data, count_modifier=log_func)\n",
        "model.train_batch()\n",
        "io.write_binary_model_file(\"model.bin\", model)"
      ],
      "metadata": {
        "id": "SNs86P6USPXr"
      },
      "execution_count": null,
      "outputs": []
    },
    {
      "cell_type": "code",
      "source": [
        "model_file = \"model.bin\"\n",
        "io = morfessor.MorfessorIO()\n",
        "model = io.read_binary_model_file(model_file)\n",
        "word = input(\"Input word > \")\n",
        "print (model.viterbi_segment(word)[0])"
      ],
      "metadata": {
        "id": "6CF84ozoS5HA",
        "colab": {
          "base_uri": "https://localhost:8080/"
        },
        "outputId": "a493f700-e197-4192-8607-6875f8556d7b"
      },
      "execution_count": null,
      "outputs": [
        {
          "output_type": "stream",
          "name": "stdout",
          "text": [
            "Input word > የኢራን \n",
            "['የ', 'ኢራን ']\n"
          ]
        }
      ]
    },
    {
      "cell_type": "code",
      "source": [],
      "metadata": {
        "id": "WgoJRpaBbpy2"
      },
      "execution_count": null,
      "outputs": []
    }
  ],
  "metadata": {
    "colab": {
      "provenance": []
    },
    "kernelspec": {
      "display_name": "Python 3",
      "name": "python3"
    },
    "language_info": {
      "name": "python"
    }
  },
  "nbformat": 4,
  "nbformat_minor": 0
}